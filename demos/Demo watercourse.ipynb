{
 "cells": [
  {
   "cell_type": "markdown",
   "id": "009d8280",
   "metadata": {},
   "source": [
    "# Test JulES"
   ]
  },
  {
   "cell_type": "markdown",
   "id": "01e0bc3e",
   "metadata": {},
   "source": [
    "### Import packages"
   ]
  },
  {
   "cell_type": "code",
   "execution_count": null,
   "id": "6d67dd8b",
   "metadata": {},
   "outputs": [],
   "source": [
    "using Pkg\n",
    "# Pkg.update(\"TuLiPa\") # uncomment to update TuLiPa to latest version\n",
    "# Pkg.develop(path=joinpath(dirname(dirname(pwd())),\"TuLiPa\")); Pkg.status() # go to development version\n",
    "# Pkg.undo(); Pkg.status() # go back to main package version\n",
    "# Pkg.add(url=\"https://github.com/NVE/TuLiPa.git\"); Pkg.status() # alternative go back to latest version"
   ]
  },
  {
   "cell_type": "code",
   "execution_count": null,
   "id": "ecbf4aa8",
   "metadata": {
    "scrolled": false
   },
   "outputs": [],
   "source": [
    "using DataFrames, Statistics, JSON, Distributed, Clustering, YAML, CSV, Plots, PrettyTables, Revise\n",
    "plotlyjs(); #uncomment for interactive plots"
   ]
  },
  {
   "cell_type": "code",
   "execution_count": null,
   "id": "e224ddd4",
   "metadata": {},
   "outputs": [],
   "source": [
    "config = YAML.load_file(joinpath(\"data\", \"config_jules_vassdrag.yml\"))\n",
    "scenarioyear = config[\"main\"][\"weatheryears\"][1]\n",
    "datayear = config[\"main\"][\"datayears\"][1]"
   ]
  },
  {
   "cell_type": "markdown",
   "id": "239c3161",
   "metadata": {},
   "source": [
    "### Prepare parallell processing - import code on all cores"
   ]
  },
  {
   "cell_type": "code",
   "execution_count": null,
   "id": "3971d0bb",
   "metadata": {},
   "outputs": [],
   "source": [
    "const numcores = config[\"main\"][\"numcores\"]\n",
    "\n",
    "if nprocs() < numcores\n",
    "    addprocs(numcores - nprocs())\n",
    "end\n",
    "\n",
    "@show nprocs();"
   ]
  },
  {
   "cell_type": "code",
   "execution_count": null,
   "id": "696e5ec2",
   "metadata": {},
   "outputs": [],
   "source": [
    "@everywhere using TuLiPa, Dates\n",
    "# @everywhere include(joinpath(dirname(dirname(dirname(pwd()))),\"jgrc/TuLiPa/src/TuLiPa.jl\"));"
   ]
  },
  {
   "cell_type": "code",
   "execution_count": null,
   "id": "d2448075",
   "metadata": {},
   "outputs": [],
   "source": [
    "@everywhere include(joinpath(dirname(pwd()),\"src/JulES.jl\"));"
   ]
  },
  {
   "cell_type": "code",
   "execution_count": null,
   "id": "35482c34",
   "metadata": {},
   "outputs": [],
   "source": [
    "function getdataset(config, scenarioyear)\n",
    "    # Read watercourse, elspot area and price series\n",
    "    watercourse = config[\"data\"][\"watercourse\"]\n",
    "    elspotnames = config[\"data\"][\"elspotnames\"] # some watercourses are in several elspot areas\n",
    "    priceseriesname = config[\"data\"][\"priceseriesname\"] \n",
    "\n",
    "    # Read hydropower dataelements from json-files\n",
    "    sti_dynmodelldata = joinpath(config[\"main\"][\"inputpath\"], \"dataset_vassdrag\")\n",
    "    tidsserie = JSON.parsefile(joinpath(sti_dynmodelldata,\"tidsserier_detd.json\"))\n",
    "    detdseries = getelements(tidsserie, sti_dynmodelldata);\n",
    "    dst = JSON.parsefile(joinpath(sti_dynmodelldata, \"dataset_detd_\" * watercourse * \".json\"))\n",
    "    detdstructure = getelements(dst);\n",
    "    elements = vcat(detdseries,detdstructure)\n",
    "\n",
    "    # Add an exogenous price area that the plants and pumps can interact with. All units are in NO5.\n",
    "    for elspotname in elspotnames\n",
    "        addexogenbalance!(elements, \"PowerBalance_\" * elspotname, \"Power\", \"AreaPrice\")\n",
    "    end\n",
    "\n",
    "    # Add dataelements for price in exogen area\n",
    "    price_path = joinpath(config[\"main\"][\"inputpath\"], config[\"data\"][\"price\"])\n",
    "    df = CSV.read(price_path, DataFrame; header=3, decimal=',', types=Float64)\n",
    "    df[:,\"aar\"] = cld.(1:first(size(df)), 2912) .+ 1957\n",
    "    df[:,\"tsnitt\"] = rem.(0:(first(size(df))-1), 2912) .+ 1\n",
    "    df.datetime .= getisoyearstart.(Int.(df.aar)) + Hour.((df.tsnitt.-1)*3) # TODO: Include week 53. Now ignored and flat prices.\n",
    "    push!(elements, DataElement(TIMEINDEX_CONCEPT,\"VectorTimeIndex\",\"AreaPriceProfileIndex\",\n",
    "            Dict(\"Vector\" => df.datetime)))\n",
    "    push!(elements, DataElement(TIMEVALUES_CONCEPT,\"VectorTimeValues\",\"AreaPriceProfileValues\",\n",
    "            Dict(\"Vector\" => df[:,priceseriesname])))\n",
    "    push!(elements, getelement(TIMEVECTOR_CONCEPT,\"RotatingTimeVector\",\"AreaProfile\",\n",
    "            (TIMEINDEX_CONCEPT,\"AreaPriceProfileIndex\"),(TIMEVALUES_CONCEPT,\"AreaPriceProfileValues\")))\n",
    "    addparam!(elements, \"MeanSeriesParam\", \"AreaPrice\", 1.0, \"AreaProfile\")\n",
    "\n",
    "    return Dict(\"elements\" => elements, \"detailedrescopl\" => Dict())\n",
    "end\n",
    "\n",
    "dataset = getdataset(config, scenarioyear)"
   ]
  },
  {
   "cell_type": "code",
   "execution_count": null,
   "id": "ca8bc8dd",
   "metadata": {},
   "outputs": [],
   "source": [
    "data = JulES.run_serial(config, datayear, scenarioyear, dataset)"
   ]
  },
  {
   "cell_type": "code",
   "execution_count": null,
   "id": "79a28594",
   "metadata": {},
   "outputs": [],
   "source": [
    "powerbalancenames = data[\"areanames\"]\n",
    "prices = data[\"pricematrix\"]\n",
    "x1 = data[\"priceindex\"]\n",
    "\n",
    "hydronames = data[\"resnames\"]\n",
    "hydrolevels = data[\"resmatrix\"]\n",
    "x2 = data[\"resindex\"]\n",
    "\n",
    "batterynames = data[\"batnames\"]\n",
    "batterylevels = data[\"batmatrix\"]\n",
    "x2 = data[\"batindex\"]\n",
    "\n",
    "statenames = data[\"statenames\"]\n",
    "statematrix = data[\"statematrix\"]\n",
    "x3 = data[\"stateindex\"]\n",
    "\n",
    "supplyvalues = data[\"supplyvalues\"]\n",
    "supplynames = data[\"supplynames\"]\n",
    "supplybalancenames = data[\"supplybalancenames\"]\n",
    "\n",
    "demandvalues = data[\"demandvalues\"]\n",
    "demandnames = data[\"demandnames\"]\n",
    "demandbalancenames = data[\"demandbalancenames\"];\n",
    "\n",
    "storagevalues = data[\"storagevalues\"]\n",
    "storagenames = data[\"storagenames\"]\n",
    "scenarionames = data[\"scenarionames\"];"
   ]
  },
  {
   "cell_type": "code",
   "execution_count": null,
   "id": "52cacae8",
   "metadata": {},
   "outputs": [],
   "source": [
    "# Plot prices\n",
    "display(plot(x1, prices, labels=reshape(powerbalancenames,1,length(powerbalancenames)), size=(800,500), title=\"Prices\", ylabel=\"€/MWh\"))\n",
    "\n",
    "# # Plot supplies and demands\n",
    "maxdemsup = isempty(supplyvalues) ? maximum(demandvalues) : (isempty(demandvalues) ? maximum(supplyvalues) : max(maximum(demandvalues), maximum(supplyvalues)))\n",
    "supplychart = plot(x1, supplyvalues,labels=reshape(supplynames,1,length(supplynames)),title=\"Supply\", ylabel = \"GWh/h\", ylims=(0,maxdemsup))\n",
    "demandchart = plot(x1, demandvalues,labels=reshape(demandnames,1,length(demandnames)),title=\"Demand\", ylabel = \"GWh/h\", ylims=(0,maxdemsup))\n",
    "display(plot([supplychart,demandchart]...,layout=(1,2),size=(1600,500)))\n",
    "\n",
    "# Plot storages\n",
    "display(areaplot(x2, hydrolevels,labels=reshape(hydronames,1,length(hydronames)),size=(800,500),title=\"Reservoir levels\", ylabel = \"TWh\")) #\n",
    "# display(areaplot(x2, dropdims(sum(hydrolevels,dims=2),dims=2),labels=\"Total reservoirs\",size=(800,500),title=\"Reservoir levels\", ylabel = \"Gm3\")) #\n",
    "\n",
    "# Plot list of yearly mean production and demand for each supply/demand\n",
    "meandemand = dropdims(mean(demandvalues,dims=1),dims=1)\n",
    "meanproduction = dropdims(mean(supplyvalues,dims=1),dims=1)\n",
    "supplydf = sort(DataFrame(Supplyname = supplynames, Yearly_supply_TWh = meanproduction*8.76),[:Yearly_supply_TWh], rev = true)\n",
    "demanddf = sort(DataFrame(Demandname = demandnames, Yearly_demand_TWh = meandemand*8.76),[:Yearly_demand_TWh], rev = true)\n",
    "supplydf[!,:ID] = collect(1:length(supplynames))\n",
    "demanddf[!,:ID] = collect(1:length(demandnames))\n",
    "joineddf = select!(outerjoin(supplydf,demanddf;on=:ID),Not(:ID))\n",
    "pretty_table(joineddf, show_subheader=false)\n",
    "\n",
    "# Check that total supply equals total demand\n",
    "pretty_table(combine(joineddf, [:Yearly_supply_TWh, :Yearly_demand_TWh] .=> sum∘skipmissing), show_subheader=false)\n",
    "\n",
    "# Plot list of yearly income and cost for each supply/demand\n",
    "supplyrev = copy(supplyvalues)\n",
    "for (i,supplybalancename) in enumerate(supplybalancenames)\n",
    "    idx = findfirst(isequal(supplybalancename), powerbalancenames)\n",
    "    supplyrev[:,i] .= supplyrev[:,i] .* prices[:,idx]\n",
    "end\n",
    "demandrev = copy(demandvalues)\n",
    "for (i,demandbalancename) in enumerate(demandbalancenames)\n",
    "    idx = findfirst(isequal(demandbalancename), powerbalancenames)\n",
    "    demandrev[:,i] .= demandrev[:,i] .* prices[:,idx]\n",
    "end\n",
    "meandemandrev = dropdims(mean(demandrev,dims=1),dims=1)\n",
    "meanproductionrev = dropdims(mean(supplyrev,dims=1),dims=1)\n",
    "supplyrevdf = sort(DataFrame(Supplyname = supplynames, Yearly_rev_mill€ = meanproductionrev*8.76),[:Yearly_rev_mill€], rev = true)\n",
    "demandrevdf = sort(DataFrame(Demandname = demandnames, Yearly_cost_mill€ = meandemandrev*8.76),[:Yearly_cost_mill€], rev = true)\n",
    "supplyrevdf[!,:ID] = collect(1:length(supplynames))\n",
    "demandrevdf[!,:ID] = collect(1:length(demandnames))\n",
    "joinedrevdf = select!(outerjoin(supplyrevdf,demandrevdf;on=:ID),Not(:ID))\n",
    "pretty_table(joinedrevdf, show_subheader=false)\n",
    "\n",
    "# Sum revenues and cost\n",
    "pretty_table(combine(joinedrevdf, [:Yearly_rev_mill€, :Yearly_cost_mill€] .=> sum∘skipmissing), show_subheader=false)\n",
    "\n",
    "# Plot storagevalues for each reservoir and scenarios\n",
    "numop = length(findall(sn -> occursin(\"Operative\", sn), scenarionames))\n",
    "numscen = length(scenarionames) - numop\n",
    "for (i, storagename) in enumerate(storagenames)\n",
    "    p = plot(x3, storagevalues[:,1:numscen,i] / -1, size=(800,500), title=\"Storagevalues scenario and operative for \" * storagename, labels=reshape(scenarionames[1:numscen], 1, numscen), ylabel=\"€/MWh\")\n",
    "    plot!(p, x3, storagevalues[:,numscen+1:end,i] / -1, labels=reshape(scenarionames[numscen+1:end], 1, numop), linewidth=5)\n",
    "    plot!(p, x1, prices, labels=powerbalancenames[1])\n",
    "    display(p)\n",
    " end"
   ]
  }
 ],
 "metadata": {
  "@webio": {
   "lastCommId": null,
   "lastKernelId": null
  },
  "kernelspec": {
   "display_name": "Julia 1.9.2",
   "language": "julia",
   "name": "julia-1.9"
  },
  "language_info": {
   "file_extension": ".jl",
   "mimetype": "application/julia",
   "name": "julia",
   "version": "1.9.2"
  }
 },
 "nbformat": 4,
 "nbformat_minor": 5
}
