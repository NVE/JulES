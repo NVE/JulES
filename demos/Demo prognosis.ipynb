{
 "cells": [
  {
   "cell_type": "markdown",
   "id": "009d8280",
   "metadata": {},
   "source": [
    "# JulES as a medium-term prognosis model"
   ]
  },
  {
   "cell_type": "markdown",
   "id": "01e0bc3e",
   "metadata": {},
   "source": [
    "### Import packages"
   ]
  },
  {
   "cell_type": "code",
   "execution_count": null,
   "id": "6d67dd8b",
   "metadata": {},
   "outputs": [],
   "source": [
    "#Pkg.instantiate()\n",
    "using Pkg; Pkg.status()\n",
    "#Pkg.add(\"CSV\"); Pkg.add(\"Revise\"); Pkg.add(\"Plots\"); Pkg.add(\"PlotlyJS\"); Pkg.add(\"PrettyTables\")\n",
    "# Pkg.update(\"TuLiPa\") # uncomment to update TuLiPa to latest version\n",
    "# Pkg.develop(path=joinpath(dirname(dirname(pwd())),\"TuLiPa\")); Pkg.status() # go to development version\n",
    "#Pkg.undo(); Pkg.status() # go back to main package version\n",
    "#Pkg.add(url=\"https://github.com/NVE/TuLiPa.git\", rev=\"redesign_JulES\"); Pkg.status() # alternative go back to latest version"
   ]
  },
  {
   "cell_type": "code",
   "execution_count": null,
   "id": "ecbf4aa8",
   "metadata": {
    "scrolled": false
   },
   "outputs": [],
   "source": [
    "using DataFrames, Statistics, JSON, Distributed, Clustering, YAML, Distributions, Revise, Plots, PrettyTables, Random\n",
    "plotlyjs(); # uncomment for interactive plots"
   ]
  },
  {
   "cell_type": "code",
   "execution_count": null,
   "id": "a8a9f2cf",
   "metadata": {},
   "outputs": [],
   "source": [
    "# config = YAML.load_file(joinpath(\"data\", \"config_jules_prognose.yml\")) # config without datasets\n",
    "config = YAML.load_file(joinpath(\"data\", \"config_jules_prognose_demo.yml\")) # config with NVE datasets\n",
    "weatheryear = config[\"main\"][\"weatheryears\"][1]\n",
    "datayear = config[\"main\"][\"datayears\"][1]"
   ]
  },
  {
   "cell_type": "markdown",
   "id": "239c3161",
   "metadata": {},
   "source": [
    "### Prepare parallell processing - import code on all cores"
   ]
  },
  {
   "cell_type": "code",
   "execution_count": null,
   "id": "3971d0bb",
   "metadata": {},
   "outputs": [],
   "source": [
    "const numcores = config[\"main\"][\"numcores\"]\n",
    "\n",
    "if nprocs() < numcores\n",
    "    addprocs(numcores - nprocs())\n",
    "end\n",
    "\n",
    "@show nprocs();"
   ]
  },
  {
   "cell_type": "code",
   "execution_count": null,
   "id": "696e5ec2",
   "metadata": {},
   "outputs": [],
   "source": [
    "@everywhere using TuLiPa, Dates\n",
    "# @everywhere include(joinpath(dirname(dirname(pwd())),\"TuLiPa/src/TuLiPa.jl\"));"
   ]
  },
  {
   "cell_type": "code",
   "execution_count": null,
   "id": "d2448075",
   "metadata": {},
   "outputs": [],
   "source": [
    "@everywhere using JulES"
   ]
  },
  {
   "cell_type": "code",
   "execution_count": null,
   "id": "35482c34",
   "metadata": {},
   "outputs": [],
   "source": [
    "function getdataset(config, weatheryear)\n",
    "    settings = config[config[\"main\"][\"settings\"]]\n",
    "\n",
    "    sti_dataset = joinpath(config[\"main\"][\"inputpath\"], \"static_input\")\n",
    "    weekstart = config[\"main\"][\"weekstart\"]\n",
    "\n",
    "    sti_dataset1 = joinpath(config[\"main\"][\"inputpath\"], \"Uke_$weekstart\", \"input\")\n",
    "\n",
    "    exd = JSON.parsefile(joinpath(sti_dataset1, \"exogenprices_prognose1.json\"))\n",
    "    exogen = JulES.getelements(exd, sti_dataset1)\n",
    "\n",
    "    add = JSON.parsefile(joinpath(sti_dataset, \"aggdetd2.json\"))\n",
    "    aggdetd = JulES.getelements(add, sti_dataset)\n",
    "\n",
    "    ipad = JSON.parsefile(joinpath(sti_dataset1, \"tilsigsprognoseragg$weatheryear.json\"))\n",
    "    agginflow = JulES.getelements(ipad, sti_dataset1)\n",
    "\n",
    "    thd = JSON.parsefile(joinpath(sti_dataset, \"termisk1.json\"))\n",
    "    thermal = JulES.getelements(thd, sti_dataset)\n",
    "\n",
    "    wsd = JSON.parsefile(joinpath(sti_dataset, \"vindsol.json\"))\n",
    "    windsol = JulES.getelements(wsd, sti_dataset)\n",
    "\n",
    "    trd = JSON.parsefile(joinpath(sti_dataset1, \"nett.json\"))\n",
    "    transm = JulES.getelements(trd)\n",
    "\n",
    "    cod = JSON.parsefile(joinpath(sti_dataset, \"forbruk5.json\"))\n",
    "    cons = JulES.getelements(cod, sti_dataset)\n",
    "\n",
    "    fpd = JSON.parsefile(joinpath(sti_dataset1, \"brenselspriser.json\"))\n",
    "    fuel = JulES.getelements(fpd, sti_dataset1)\n",
    "\n",
    "    nud = JSON.parsefile(joinpath(sti_dataset1, \"nuclear.json\"))\n",
    "    nuclear = JulES.getelements(nud, sti_dataset1)\n",
    "\n",
    "    dse = JSON.parsefile(joinpath(sti_dataset, \"tidsserier_detd.json\"))\n",
    "    detdseries = JulES.getelements(dse, sti_dataset)\n",
    "\n",
    "    dda = JSON.parsefile(joinpath(sti_dataset, \"dataset_detd.json\"))\n",
    "    detdstructure = JulES.getelements(dda)\n",
    "\n",
    "    ipd = JSON.parsefile(joinpath(sti_dataset1, \"tilsigsprognoser$weatheryear.json\"))\n",
    "    inflow = JulES.getelements(ipd, sti_dataset1)\n",
    "\n",
    "    progelements = vcat(exogen, aggdetd, thermal, windsol, transm, cons, agginflow, fuel, nuclear)\n",
    "    aggstartmagdict = JSON.parsefile(joinpath(sti_dataset1, \"aggstartmagdict.json\"), dicttype=Dict{String, Float64})\n",
    "\n",
    "    if JulES.get_onlyagghydro(settings)\n",
    "        startmagdict = Dict()\n",
    "        detailedrescopl = Dict()\n",
    "        return Dict(\"elements\" => progelements, \"startmagdict\" => startmagdict, \"aggstartmagdict\" => aggstartmagdict, \"detailedrescopl\" => detailedrescopl)\n",
    "    else\n",
    "        elements = vcat(exogen, detdseries, detdstructure, thermal, windsol, transm, cons, inflow, fuel, nuclear)\n",
    "        startmagdict = JSON.parsefile(joinpath(sti_dataset1, \"startmagdict.json\"))\n",
    "        detailedrescopl = JSON.parsefile(joinpath(sti_dataset, \"magasin_elspot.json\"))\n",
    "        return Dict(\"elements\" => elements, \"elements_ppp\" => progelements, \"startmagdict\" => startmagdict, \"aggstartmagdict\" => aggstartmagdict, \"detailedrescopl\" => detailedrescopl)\n",
    "    end\n",
    "end\n",
    "\n"
   ]
  },
  {
   "cell_type": "markdown",
   "id": "d87b0854",
   "metadata": {},
   "source": [
    "### Run JulES and keep the results"
   ]
  },
  {
   "cell_type": "code",
   "execution_count": null,
   "id": "ca8bc8dd",
   "metadata": {},
   "outputs": [],
   "source": [
    "\n",
    "dataset = getdataset(config, weatheryear)\n",
    "input = JulES.DefaultJulESInput(config, dataset, datayear, weatheryear)\n",
    "JulES.cleanup_jules(input)\n",
    "data = JulES.run_serial(input)"
   ]
  },
  {
   "cell_type": "markdown",
   "id": "8eaa8789",
   "metadata": {},
   "source": [
    "### Code to show results\n",
    "- We don't show any results for this demo"
   ]
  },
  {
   "cell_type": "code",
   "execution_count": null,
   "id": "9a7c42ff",
   "metadata": {},
   "outputs": [],
   "source": [
    "powerbalancenames = data[\"areanames\"]\n",
    "prices = data[\"pricematrix\"]\n",
    "x1 = data[\"priceindex\"]\n",
    "\n",
    "hydronames = data[\"resnames\"]\n",
    "hydrolevels = data[\"resmatrix\"]\n",
    "x2 = data[\"resindex\"]\n",
    "\n",
    "batterynames = data[\"batnames\"]\n",
    "batterylevels = data[\"batmatrix\"]\n",
    "x2 = data[\"batindex\"]\n",
    "\n",
    "statenames = data[\"statenames\"]\n",
    "statematrix = data[\"statematrix\"]\n",
    "x3 = data[\"stateindex\"]\n",
    "\n",
    "supplyvalues = data[\"supplyvalues\"]\n",
    "supplynames = data[\"supplynames\"]\n",
    "supplybalancenames = data[\"supplybalancenames\"]\n",
    "\n",
    "demandvalues = data[\"demandvalues\"]\n",
    "demandnames = data[\"demandnames\"]\n",
    "demandbalancenames = data[\"demandbalancenames\"];\n",
    "\n",
    "# storagevalues = data[\"storagevalues\"]\n",
    "# storagenames = data[\"storagenames\"]\n",
    "# scenarionames = data[\"scenarionames\"]\n",
    "# shorts = data[\"shorts\"]\n",
    "# skipfactor = data[\"skipfactor\"];"
   ]
  },
  {
   "cell_type": "code",
   "execution_count": null,
   "id": "d7715824",
   "metadata": {},
   "outputs": [],
   "source": [
    "# a = 0.5\n",
    "# b = -4\n",
    "# c = 10\n",
    "# # a = 1\n",
    "# # b = 0\n",
    "# # c = 5\n",
    "# # a = 0\n",
    "# # b = 0\n",
    "# # c = 1\n",
    "# numscen = 7\n",
    "# x = collect(-numscen+1:2:numscen-1)\n",
    "# y = a .* x .^ 2 .+ x .* b .+ c\n",
    "# display(y/sum(y)) # show chosen weights"
   ]
  },
  {
   "cell_type": "code",
   "execution_count": null,
   "id": "91928a2e",
   "metadata": {},
   "outputs": [],
   "source": [
    "# Plot prices\n",
    "idxwohub = findall(x -> !occursin(\"HUB\", x), powerbalancenames) # remove hubs, not active in 2025 dataset\n",
    "display(plot(x1, prices[:,idxwohub]*100, labels=reshape(powerbalancenames[idxwohub],1,length(powerbalancenames[idxwohub])), size=(800,500), title=\"Prices\", ylabel=\"€/MWh\"))\n",
    "\n",
    "# # Plot supplies and demands\n",
    "# maxdemsup = isempty(supplyvalues) ? maximum(demandvalues) : (isempty(demandvalues) ? maximum(supplyvalues) : max(maximum(demandvalues), maximum(supplyvalues)))\n",
    "# supplychart = plot(x1, supplyvalues,labels=reshape(supplynames,1,length(supplynames)),title=\"Supply\", ylabel = \"GWh/h\", ylims=(0,maxdemsup))\n",
    "# demandchart = plot(x1, demandvalues,labels=reshape(demandnames,1,length(demandnames)),title=\"Demand\", ylabel = \"GWh/h\", ylims=(0,maxdemsup))\n",
    "sumsupplyvalues = sum(supplyvalues,dims=2)\n",
    "sumdemandvalues = sum(demandvalues,dims=2)\n",
    "maxdemsup = isempty(sumsupplyvalues) ? maximum(sumdemandvalues) : (isempty(sumdemandvalues) ? maximum(sumsupplyvalues) : max(maximum(sumdemandvalues), maximum(sumsupplyvalues)))\n",
    "supplychart = areaplot(x1,sumsupplyvalues,title=\"Supply\", ylabel = \"GWh/h\")\n",
    "demandchart = areaplot(x1,sumdemandvalues,title=\"Demand\", ylabel = \"GWh/h\")\n",
    "display(plot([supplychart,demandchart]...,layout=(1,2),size=(800,500)))\n",
    "# display(plot(supplychart,size=(800,500)))\n",
    "\n",
    "# Plot storages\n",
    "# display(areaplot(x2, hydrolevels1,labels=reshape(hydronames,1,length(hydronames)),size=(800,500),title=\"Reservoir levels\", ylabel = \"TWh\")) #\n",
    "display(areaplot(x2, dropdims(sum(hydrolevels,dims=2),dims=2),labels=\"Total\",size=(800,500),title=\"Reservoir levels\", ylabel = \"TWh\")) #\n",
    "\n",
    "# display(areaplot(x1, dropdims(sum(batterylevels,dims=2),dims=2),labels=\"Total\",size=(800,500),title=\"Short term storage levels\", ylabel = \"GWh\")) #\n",
    "\n",
    "# Plot list of yearly mean production and demand for each supply/demand TODO: split demand/supply and transmission\n",
    "meandemand = dropdims(mean(demandvalues,dims=1),dims=1)\n",
    "meanproduction = dropdims(mean(supplyvalues,dims=1),dims=1)\n",
    "supplydf = sort(DataFrame(Supplyname = supplynames, Yearly_supply_TWh = meanproduction*8.76),[:Yearly_supply_TWh], rev = true)\n",
    "demanddf = sort(DataFrame(Demandname = demandnames, Yearly_demand_TWh = meandemand*8.76),[:Yearly_demand_TWh], rev = true)\n",
    "supplydf[!,:ID] = collect(1:length(supplynames))\n",
    "demanddf[!,:ID] = collect(1:length(demandnames))\n",
    "joineddf = select!(outerjoin(supplydf,demanddf;on=:ID),Not(:ID))\n",
    "pretty_table(joineddf, show_subheader = true)\n",
    "\n",
    "# Check that total supply equals total demand\n",
    "pretty_table(combine(joineddf, [:Yearly_supply_TWh, :Yearly_demand_TWh] .=> sum∘skipmissing), show_subheader = true)\n",
    "\n",
    "# Plot list of yearly income and cost for each supply/demand (only works if exogenprices are collected)\n",
    "supplyrev = copy(supplyvalues)\n",
    "for (i,supplybalancename) in enumerate(supplybalancenames)\n",
    "    idx = findfirst(isequal(supplybalancename), powerbalancenames)\n",
    "    supplyrev[:,i] .= supplyrev[:,i] .* prices[:,idx]\n",
    "end\n",
    "demandrev = copy(demandvalues)\n",
    "for (i,demandbalancename) in enumerate(demandbalancenames)\n",
    "    idx = findfirst(isequal(demandbalancename), powerbalancenames)\n",
    "    demandrev[:,i] .= demandrev[:,i] .* prices[:,idx]\n",
    "end\n",
    "meandemandrev = dropdims(mean(demandrev,dims=1),dims=1)\n",
    "meanproductionrev = dropdims(mean(supplyrev,dims=1),dims=1)\n",
    "supplyrevdf = sort(DataFrame(Supplyname = supplynames, Yearly_rev_mill€ = meanproductionrev*8.76),[:Yearly_rev_mill€], rev = true)\n",
    "demandrevdf = sort(DataFrame(Demandname = demandnames, Yearly_cost_mill€ = meandemandrev*8.76),[:Yearly_cost_mill€], rev = true)\n",
    "supplyrevdf[!,:ID] = collect(1:length(supplynames))\n",
    "demandrevdf[!,:ID] = collect(1:length(demandnames))\n",
    "joinedrevdf = select!(outerjoin(supplyrevdf,demandrevdf;on=:ID),Not(:ID))\n",
    "# pretty_table(joinedrevdf, show_subheader = true)\n",
    "\n",
    "# Sum revenues and cost\n",
    "pretty_table(combine(joinedrevdf, [:Yearly_rev_mill€, :Yearly_cost_mill€] .=> sum∘skipmissing), show_subheader = true)\n",
    "\n",
    "# # Plot storagevalues for each reservoir and scenarios\n",
    "# maxlongtermstorages = 40\n",
    "# maxshorttermstorages = 40\n",
    "# shortindex = x3\n",
    "# medindex = x3[1:Int(skipfactor):Int(end-skipfactor)]\n",
    "# numop = length(findall(sn -> occursin(\"Operative\", sn), scenarionames))\n",
    "# numscen = length(scenarionames) - numop\n",
    "# j = 0\n",
    "# k = 0\n",
    "# for (i, storagename) in enumerate(storagenames)\n",
    "#     if shorts[i]\n",
    "#         j += 1\n",
    "#         j > maxshorttermstorages && continue\n",
    "#         storagevalues_ = storagevalues[:,:,:]\n",
    "#         index = shortindex\n",
    "#     else\n",
    "#         k += 1\n",
    "#         k > maxlongtermstorages && continue\n",
    "#         storagevalues_ = storagevalues[1:Int(skipfactor):Int(end-skipfactor),:,:]\n",
    "#         index = medindex\n",
    "#     end\n",
    "#     p = plot(index, storagevalues_[:,1:numscen,i] * -100, size=(800,500), title=\"Storagevalues scenario and operative for \" * storagename, labels=reshape(scenarionames[1:numscen], 1, numscen), ylabel=\"€/MWh\")\n",
    "#     plot!(p, index, storagevalues_[:,numscen+1:end,i] * -100, labels=reshape(scenarionames[numscen+1:end], 1, numop), linewidth=5)\n",
    "#     display(p)\n",
    "# end"
   ]
  },
  {
   "cell_type": "code",
   "execution_count": null,
   "id": "5abb9a8a",
   "metadata": {},
   "outputs": [],
   "source": []
  }
 ],
 "metadata": {
  "@webio": {
   "lastCommId": null,
   "lastKernelId": null
  },
  "kernelspec": {
   "display_name": "Julia 1.9.2",
   "language": "julia",
   "name": "julia-1.9"
  },
  "language_info": {
   "file_extension": ".jl",
   "mimetype": "application/julia",
   "name": "julia",
   "version": "1.9.2"
  }
 },
 "nbformat": 4,
 "nbformat_minor": 5
}
