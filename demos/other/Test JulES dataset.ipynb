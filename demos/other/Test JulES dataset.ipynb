{
 "cells": [
  {
   "cell_type": "code",
   "execution_count": null,
   "id": "9b80b843",
   "metadata": {
    "scrolled": true
   },
   "outputs": [],
   "source": [
    "# using Pkg; Pkg.update(\"TuLiPa\") # uncomment to update TuLiPa to latest version\n",
    "# using DataFrames, Plots, Statistics, JSON, TuLiPa, Dates, HiGHS, JuMP\n",
    "using DataFrames, Plots, Statistics, JSON, Dates, HiGHS, JuMP, TuLiPa\n",
    "# include(joinpath(dirname(dirname(dirname(pwd()))),\"jgrc/TuLiPa/src/TuLiPa.jl\"));\n",
    "include(joinpath(dirname(dirname(pwd())),\"src/util.jl\"));\n",
    "plotlyjs() # uncomment for interactive plots"
   ]
  },
  {
   "cell_type": "code",
   "execution_count": null,
   "id": "8e3add3a",
   "metadata": {},
   "outputs": [],
   "source": [
    "using JLD2"
   ]
  },
  {
   "cell_type": "code",
   "execution_count": null,
   "id": "14677a69",
   "metadata": {},
   "outputs": [],
   "source": [
    "prob = load(\"probGtfW4MoTGXM9.jld2\")\n",
    "p = prob[\"p\"];"
   ]
  },
  {
   "cell_type": "code",
   "execution_count": null,
   "id": "952b9b90",
   "metadata": {},
   "outputs": [],
   "source": [
    "env = TuLiPa._CPLEXEnv()\n",
    "lp = TuLiPa._cplex_create_lp(env)\n",
    "CPLEX.CPXreadcopyprob(env, lp, \"failed_modelGtfW4MoTGXM9.mps\", \"MPS\")\n",
    "CPLEX.CPXsetintparam(env, 1062, 2) # 1/primal, 2/dual, 3/network, 4/barrier\n",
    "# CPLEX.CPXsetintparam(env, 1147, 2) # solution type with barrier\n",
    "# CPLEX.CPXsetintparam(env, 3017, 4) # barrier start alg\n",
    "CPLEX.CPXsetintparam(env, 1035, 1) # Screenoutput\n",
    "CPLEX.CPXlpopt(env, lp)  \n",
    "objval_p = Ref{Cdouble}()\n",
    "CPLEX.CPXgetobjval(env, lp, objval_p)\n",
    "print(objval_p[])\n",
    "display(CPLEX.CPXgetstat(env, lp))"
   ]
  },
  {
   "cell_type": "code",
   "execution_count": null,
   "id": "81883945",
   "metadata": {},
   "outputs": [],
   "source": [
    "h = Highs_create()\n",
    "Highs_readModel(h, \"failed_modelGtfW4MoTGXM9.mps\")\n",
    "Highs_setIntOptionValue(h, \"simplex_scale_strategy\", 5)\n",
    "ret = Highs_run(h)\n",
    "Highs_getScaledModelStatus(p.inner)"
   ]
  },
  {
   "cell_type": "code",
   "execution_count": null,
   "id": "056f30da",
   "metadata": {},
   "outputs": [],
   "source": [
    "p.inner = Highs_create()\n",
    "TuLiPa._passLP!(p)\n",
    "Highs_setIntOptionValue(p, \"simplex_scale_strategy\", 5)\n",
    "# Highs_setDoubleOptionValue(p, \"primal_feasibility_tolerance\", 1e-6) \n",
    "Highs_run(p.inner)\n",
    "Highs_getScaledModelStatus(p.inner)"
   ]
  },
  {
   "cell_type": "code",
   "execution_count": null,
   "id": "45a764df",
   "metadata": {},
   "outputs": [],
   "source": [
    "# The hydropower storages in the dataset needs boundary conditions for the state variables\n",
    "function addStartEqualStopAllStorages!(modelobjects)\n",
    "    for obj in values(modelobjects)\n",
    "        if obj isa BaseStorage\n",
    "            trait = StartEqualStop(obj)\n",
    "            modelobjects[getid(trait)] = trait\n",
    "        end\n",
    "    end\n",
    "end\n",
    "\n",
    "# Power balances needs slack variable for when the inelastic supply (wind, solar, RoR) is higher than the inelastic demand\n",
    "function addPowerUpperSlack!(modelobjects) # add after object manipulation\n",
    "    for obj in values(modelobjects)\n",
    "        if obj isa BaseBalance\n",
    "            if getid(getcommodity(obj)) == Id(\"Commodity\", \"Power\")\n",
    "                balancename = getinstancename(getid(obj))\n",
    "                \n",
    "                varname = \"SlackVar_\" * balancename\n",
    "                varkey = Id(FLOW_CONCEPT, varname)\n",
    "                var = BaseFlow(varkey)\n",
    "                \n",
    "                sethorizon!(var, gethorizon(obj))\n",
    "                setlb!(var, LowerZeroCapacity())\n",
    "                \n",
    "                arrowname = \"SlackArrow_\" * balancename\n",
    "                arrowkey = Id(ARROW_CONCEPT, arrowname) \n",
    "                arrow = BaseArrow(arrowkey, obj, BaseConversion(PlusOneParam()), 0)\n",
    "                addarrow!(var, arrow)\n",
    "                \n",
    "                modelobjects[varkey] = var\n",
    "            end\n",
    "        end \n",
    "    end\n",
    "end\n",
    "\n",
    "# Remove elements that are not compatible with certain Horizons.\n",
    "function remove_startupcosts!(modelobjects)\n",
    "    for (id,obj) in modelobjects\n",
    "        if obj isa StartUpCost\n",
    "            delete!(modelobjects, id)\n",
    "        end\n",
    "    end\n",
    "end\n",
    "function remove_transmissionramping!(modelobjects::Dict)\n",
    "    for (id,obj) in modelobjects\n",
    "        if obj isa TransmissionRamping\n",
    "            delete!(modelobjects, id)\n",
    "        end\n",
    "    end\n",
    "end;"
   ]
  },
  {
   "cell_type": "code",
   "execution_count": null,
   "id": "fd97bddb",
   "metadata": {},
   "outputs": [],
   "source": [
    "weekstart = 46\n",
    "config = JSON.parsefile(joinpath(dirname(pwd()), \"jules_config.json\"), use_mmap=false)\n",
    "prognoser_path = joinpath(config[1], \"prognosermodell\", \"prognoser\")\n",
    "\n",
    "sti_data = joinpath(prognoser_path, \"static_input\")\n",
    "sti_data1 = joinpath(prognoser_path, \"Uke_$(weekstart)\", \"input\");"
   ]
  },
  {
   "cell_type": "code",
   "execution_count": null,
   "id": "ffda4a6e",
   "metadata": {},
   "outputs": [],
   "source": [
    "exd = JSON.parsefile(joinpath(sti_data1, \"exogenprices_prognose1.json\"))\n",
    "exogen = getelements(exd, sti_data1);"
   ]
  },
  {
   "cell_type": "code",
   "execution_count": null,
   "id": "15ec6076",
   "metadata": {},
   "outputs": [],
   "source": [
    "add = JSON.parsefile(joinpath(sti_data, \"aggdetd2.json\"))\n",
    "aggdetd = getelements(add, sti_data);"
   ]
  },
  {
   "cell_type": "code",
   "execution_count": null,
   "id": "e48b2ab6",
   "metadata": {},
   "outputs": [],
   "source": [
    "ipad = JSON.parsefile(joinpath(sti_data1, \"tilsigsprognoseragg1993.json\"))\n",
    "agginflow = getelements(ipad, sti_data1);"
   ]
  },
  {
   "cell_type": "code",
   "execution_count": null,
   "id": "b3eee11e",
   "metadata": {},
   "outputs": [],
   "source": [
    "dse = JSON.parsefile(joinpath(sti_data, \"tidsserier_detd.json\"))\n",
    "detdseries = getelements(dse, sti_data);"
   ]
  },
  {
   "cell_type": "code",
   "execution_count": null,
   "id": "a50e029f",
   "metadata": {},
   "outputs": [],
   "source": [
    "dda = JSON.parsefile(joinpath(sti_data, \"dataset_detd.json\"))\n",
    "detdstructure = getelements(dda);"
   ]
  },
  {
   "cell_type": "code",
   "execution_count": null,
   "id": "a16ee735",
   "metadata": {},
   "outputs": [],
   "source": [
    "ipd = JSON.parsefile(joinpath(sti_data1, \"tilsigsprognoser1993.json\"))\n",
    "inflow = getelements(ipd, sti_data1);"
   ]
  },
  {
   "cell_type": "code",
   "execution_count": null,
   "id": "55542157",
   "metadata": {},
   "outputs": [],
   "source": [
    "thd = JSON.parsefile(joinpath(sti_data, \"termisk1.json\"))\n",
    "thermal = getelements(thd, sti_data);"
   ]
  },
  {
   "cell_type": "code",
   "execution_count": null,
   "id": "0d278eef",
   "metadata": {},
   "outputs": [],
   "source": [
    "wsd = JSON.parsefile(joinpath(sti_data, \"vindsol.json\"))\n",
    "windsol = getelements(wsd, sti_data);"
   ]
  },
  {
   "cell_type": "code",
   "execution_count": null,
   "id": "8c73e9b2",
   "metadata": {},
   "outputs": [],
   "source": [
    "trd = JSON.parsefile(joinpath(sti_data1, \"nett.json\"))\n",
    "transm = getelements(trd);"
   ]
  },
  {
   "cell_type": "code",
   "execution_count": null,
   "id": "0afed9e7",
   "metadata": {},
   "outputs": [],
   "source": [
    "cod = JSON.parsefile(joinpath(sti_data, \"forbruk5.json\"))\n",
    "cons = getelements(cod, sti_data);"
   ]
  },
  {
   "cell_type": "code",
   "execution_count": null,
   "id": "96b60279",
   "metadata": {},
   "outputs": [],
   "source": [
    "fpd = JSON.parsefile(joinpath(sti_data1, \"brenselspriser.json\"))\n",
    "fuel = getelements(fpd, sti_data1);"
   ]
  },
  {
   "cell_type": "code",
   "execution_count": null,
   "id": "9c7117f3",
   "metadata": {},
   "outputs": [],
   "source": [
    "nud = JSON.parsefile(joinpath(sti_data1, \"nuclear.json\"))\n",
    "nuclear = getelements(nud, sti_data1);"
   ]
  },
  {
   "cell_type": "code",
   "execution_count": null,
   "id": "6404b84d",
   "metadata": {},
   "outputs": [],
   "source": [
    "# tnd = JSON.parsefile(joinpath(sti_data, \"termisk_nonucl.json\"))\n",
    "# thermal_nonucl = getelements(tnd, sti_data);"
   ]
  },
  {
   "cell_type": "code",
   "execution_count": null,
   "id": "9f60ba76",
   "metadata": {},
   "outputs": [],
   "source": [
    "# Gamle filer\n",
    "# elements = vcat(exogen,detdseries,detdstructure,thermal,windsol,transm,cons,inflow)\n",
    "# elements = vcat(exogen,aggdetd,thermal,windsol,transm,cons,agginflow)\n",
    "\n",
    "# Filer med kjernekraft og fuel separat\n",
    "elements = vcat(exogen,aggdetd,thermal,windsol,transm,cons,agginflow,nuclear,fuel)\n",
    "# elements = vcat(exogen,detdseries,detdstructure,windsol,transm,cons,inflow,nuclear,fuel)\n",
    "\n",
    "# Filer med uten kjernekraftprognose\n",
    "# elements = vcat(exogen,aggdetd,thermal,windsol,transm,cons,agginflow,nuclear,fuel)\n",
    "# elements = vcat(exogen,detdseries,thermal_nonucl,detdstructure,windsol,transm,cons,inflow,fuel)\n",
    "length(elements)"
   ]
  },
  {
   "cell_type": "code",
   "execution_count": null,
   "id": "af98a2ef",
   "metadata": {},
   "outputs": [],
   "source": [
    "scenarioyearstart = 1991\n",
    "scenarioyearstop = 2021\n",
    "push!(elements, getelement(TIMEPERIOD_CONCEPT, \"ScenarioTimePeriod\", \"ScenarioTimePeriod\", \n",
    "        (\"Start\", getisoyearstart(scenarioyearstart)), (\"Stop\", getisoyearstart(scenarioyearstop))))\n",
    "\n",
    "cnph = 26\n",
    "cnpp = 26\n",
    "cpdh = Hour(168*2)\n",
    "cpdp = Hour(168*2)\n",
    "# cnph = 24\n",
    "# cnpp = 24\n",
    "# cpdh = Hour(2)\n",
    "# cpdp = Hour(2)\n",
    "hydro_horizon = SequentialHorizon(cnph, cpdh)\n",
    "power_horizon = SequentialHorizon(cnpp, cpdp)\n",
    "\n",
    "# Insert horizons into commodities. E.g. all batteries will have the power horizon, since they interact with the power market\n",
    "function set_horizon!(elements, commodity, horizon)\n",
    "    # If element already exist, replace horizon with new\n",
    "    for element in elements\n",
    "        if element.typename == \"BaseCommodity\"\n",
    "            if element.instancename == commodity\n",
    "                element.value[HORIZON_CONCEPT] = horizon\n",
    "                return\n",
    "            end\n",
    "        end\n",
    "    end\n",
    "    \n",
    "    # Else, add commodity to element list\n",
    "    push!(elements, getelement(COMMODITY_CONCEPT, \"BaseCommodity\", commodity, \n",
    "        (HORIZON_CONCEPT, horizon)))\n",
    "end\n",
    "\n",
    "# The power horizon will be assigned to everything contributing to the power market, or batteries\n",
    "set_horizon!(elements, \"Power\", power_horizon)\n",
    "set_horizon!(elements, \"Battery\", power_horizon)\n",
    "\n",
    "# The hydro horizon will be assigned to storages, bypasses and spill variables of hydropower plants (not release because it contributes to the power market and therefore needs to have power_horizon as its horizon)\n",
    "set_horizon!(elements, \"Hydro\", hydro_horizon);"
   ]
  },
  {
   "cell_type": "code",
   "execution_count": null,
   "id": "33c883b8",
   "metadata": {},
   "outputs": [],
   "source": [
    "modelobjects = getmodelobjects(elements);\n",
    "length(modelobjects)"
   ]
  },
  {
   "cell_type": "markdown",
   "id": "e8c8873a",
   "metadata": {},
   "source": [
    "### Simplify market description and add boundary conditions\n",
    "When the model objects have been created we can manipulate them however we want. In this example we simplify the problem by aggregating areas and power plants, and removing short term storage systems and start-up costs. We also add boundary conditions to storages."
   ]
  },
  {
   "cell_type": "code",
   "execution_count": null,
   "id": "729863a4",
   "metadata": {},
   "outputs": [],
   "source": [
    "function simplify!(modelobjects)    \n",
    "    # Add slack variable for excessive renewable power\n",
    "    addPowerUpperSlack!(modelobjects)\n",
    "\n",
    "    # Start-up-costs are not compatible with aggregatesupplycurve! or AdaptiveHorizon\n",
    "    # remove_startupcosts!(modelobjects)\n",
    "    \n",
    "    # TransmissionRamping not compatible with AdaptiveHorizon\n",
    "    remove_transmissionramping!(modelobjects)\n",
    "\n",
    "    # Aggregate all simple plants (only connected to power market, mostly thermal) for each area into 4 equivalent plants\n",
    "    # aggregatesupplycurve!(modelobjects, 4)\n",
    "\n",
    "    # Short-term storage systems are only needed when the horizon is fine \n",
    "    # removestoragesystems!(modelobjects, Hour(10))\n",
    "\n",
    "    # # Only calculate AdaptiveHorizon based on residual loads in these areas\n",
    "    # residualloadareas!(modelobjects, [\"\",\"NLDBEL\",\"POL\",\"GBR\",\"BAL\"])\n",
    "\n",
    "    # Storages have state-dependant variables that need a boundary conditions\n",
    "    # We set the starting storage to be equal to the ending storage, x[0] = x[T] (for horizon where t in 1:T)\n",
    "    # addStartEqualStopAllStorages!(modelobjects)\n",
    "end\n",
    "\n",
    "simplify!(modelobjects);"
   ]
  },
  {
   "cell_type": "markdown",
   "id": "499224aa",
   "metadata": {},
   "source": [
    "### Solve a problem and plot results\n",
    "Due to AdaptiveHorizon we get hourly price volatility even though the LP-problem only has seven periods per week. This leads to seven price levels per week, where hours with similar residual loads will have the same price, because they where grouped together into one period."
   ]
  },
  {
   "cell_type": "code",
   "execution_count": null,
   "id": "e0e64aa9",
   "metadata": {
    "scrolled": false
   },
   "outputs": [],
   "source": [
    "# Choose scenarios\n",
    "@time begin\n",
    "    @time prob = buildprob(CPLEXIPMMethod(), modelobjects)\n",
    "    # @time prob = buildprob(HighsSimplexMethod(), collect(values(modelobjects)))\n",
    "\n",
    "    weekstart = 45\n",
    "    t = PrognosisTime(getisoyearstart(2023) + Week(weekstart-1), getisoyearstart(2025) + Week(weekstart-1), getisoyearstart(1992) + Week(weekstart-1))\n",
    "\n",
    "    storages = getstorages(getobjects(prob))\n",
    "    setstartstoragepercentage!(prob, storages, t, 70.0) # replace with user settings\n",
    "    setendstoragepercentage!(prob, storages, t, 70.0)\n",
    "\n",
    "    @time update!(prob, t)\n",
    "\n",
    "    @time solve!(prob)\n",
    "\n",
    "    t += Day(1)\n",
    "\n",
    "    @time update!(prob, t)\n",
    "\n",
    "    @time solve!(prob)\n",
    "end\n",
    "println(getobjectivevalue(prob))\n",
    "\n",
    "# Choose areas to see results from\n",
    "probobjects = Dict(zip([getid(obj) for obj in prob.objects],prob.objects)) # collect results from all areas\n",
    "# resultobjects = getpowerobjects(modelobjects,[\"SORLAND\", \"FINNMARK\",\"SVER-SE3\",\"DANM-DK1\"]) #,\"NOS\",\"DMK\",\"DEU\", \"FRACHE\"\n",
    "resultobjects = prob.objects # collect results for all areas\n",
    "\n",
    "@time results = init_results(prob, probobjects, resultobjects, cnpp, cnph, cpdp, t, true);\n",
    "prices, rhstermvalues, production, consumption, hydrolevels, batterylevels, powerbalances, rhsterms, rhstermbalances, plants, plantbalances, plantarrows, demands, demandbalances, demandarrows, hydrostorages, batterystorages = results"
   ]
  },
  {
   "cell_type": "code",
   "execution_count": null,
   "id": "4cf09972",
   "metadata": {},
   "outputs": [],
   "source": [
    "# Only keep rhsterms that have at least one value (TODO: Do the same for sypply and demands)\n",
    "rhstermtotals = dropdims(sum(rhstermvalues,dims=1),dims=1)\n",
    "rhstermsupplyidx = []\n",
    "rhstermdemandidx = []\n",
    "\n",
    "for k in 1:length(rhsterms)\n",
    "    if rhstermtotals[k] > 0\n",
    "        push!(rhstermsupplyidx, k)\n",
    "    elseif rhstermtotals[k] < 0\n",
    "        push!(rhstermdemandidx, k)\n",
    "    end\n",
    "end\n",
    "\n",
    "# Put rhsterms together with supplies and demands\n",
    "rhstermsupplyvalues = rhstermvalues[:,rhstermsupplyidx]\n",
    "rhstermdemandvalues = rhstermvalues[:,rhstermdemandidx]*-1\n",
    "\n",
    "rhstermsupplynames = [getinstancename(rhsterm) for rhsterm in rhsterms[rhstermsupplyidx]]\n",
    "rhstermsupplybalancenames = [split(getinstancename(r), \"PowerBalance_\")[2] for r in rhstermbalances[rhstermsupplyidx]]\n",
    "rhstermdemandnames = [getinstancename(rhsterm) for rhsterm in rhsterms[rhstermdemandidx]]\n",
    "rhstermdemandbalancenames = [split(getinstancename(r), \"PowerBalance_\")[2] for r in rhstermbalances[rhstermdemandidx]]\n",
    "\n",
    "supplynames = [[getinstancename(plant) for plant in plants];rhstermsupplynames]\n",
    "supplybalancenames = [[split(getinstancename(p), \"PowerBalance_\")[2] for p in plantbalances];rhstermsupplybalancenames]\n",
    "supplyvalues = hcat(production,rhstermsupplyvalues)\n",
    "\n",
    "demandnames = [[getinstancename(demand) for demand in demands];rhstermdemandnames]\n",
    "demandbalancenames = [[split(getinstancename(p), \"PowerBalance_\")[2] for p in demandbalances];rhstermdemandbalancenames]\n",
    "demandvalues = hcat(consumption, rhstermdemandvalues)\n",
    "\n",
    "# Prepare for plotting results\n",
    "hydronames = [getinstancename(hydro) for hydro in hydrostorages]\n",
    "batterynames = [getinstancename(battery) for battery in batterystorages]\n",
    "powerbalancenames = [split(getinstancename(getid(powerbalance)), \"PowerBalance_\")[2] for powerbalance in powerbalances]\n",
    "\n",
    "# Convert reservoir filling to TWh\n",
    "hydrolevels1 = copy(hydrolevels)\n",
    "for (i,hydroname) in enumerate(hydronames)\n",
    "    if haskey(getbalance(probobjects[hydrostorages[i]]).metadata, GLOBALENEQKEY)\n",
    "        hydrolevels1[:,i] .= hydrolevels1[:,i]*getbalance(probobjects[hydrostorages[i]]).metadata[GLOBALENEQKEY]\n",
    "    end\n",
    "end\n",
    "\n",
    "# Time\n",
    "x1 = [getisoyearstart(scenarioyearstart) + cpdp*(t-1) for t in 1:first(size(supplyvalues))] # power/load resolution\n",
    "x2 = [getisoyearstart(scenarioyearstart) + cpdh*(t-1) for t in 1:first(size(hydrolevels))]; # reservoir resolution"
   ]
  },
  {
   "cell_type": "code",
   "execution_count": null,
   "id": "46b97d2c",
   "metadata": {},
   "outputs": [],
   "source": [
    "# Plot prices\n",
    "idxwohub = findall(x -> !occursin(\"HUB\", x), powerbalancenames) # remove hubs, not active in 2025 dataset\n",
    "display(plot(x1, prices[:,idxwohub]*100, labels=reshape(powerbalancenames[idxwohub],1,length(powerbalancenames[idxwohub])), size=(800,500), title=\"Prices\", ylabel=\"€/MWh\"))\n",
    "\n",
    "# # Plot supplies and demands\n",
    "supplychart = areaplot(x1, supplyvalues,labels=reshape(supplynames,1,length(supplynames)),title=\"Supply\", ylabel = \"GWh/h\")\n",
    "demandchart = areaplot(x1, demandvalues,labels=reshape(demandnames,1,length(demandnames)),title=\"Demand\", ylabel = \"GWh/h\")\n",
    "# supplychart = areaplot(x1, sum(supplyvalues,dims=2),title=\"Supply\", ylabel = \"GWh/h\")\n",
    "# demandchart = areaplot(x1, sum(demandvalues,dims=2),title=\"Demand\", ylabel = \"GWh/h\")\n",
    "display(plot([supplychart,demandchart]...,layout=(1,2),size=(800,500)))\n",
    "\n",
    "# Plot storages\n",
    "# display(areaplot(x2, hydrolevels1,labels=reshape(hydronames,1,length(hydronames)),size=(800,500),title=\"Reservoir levels\", ylabel = \"TWh\")) #\n",
    "display(areaplot(x2, dropdims(sum(hydrolevels1,dims=2),dims=2),labels=\"Total reservoirs\",size=(800,500),title=\"Reservoir levels\", ylabel = \"TWh\")) #\n",
    "\n",
    "display(areaplot(x1, dropdims(sum(batterylevels,dims=2),dims=2),labels=\"Total batteries\",size=(800,500),title=\"Battery levels\", ylabel = \"GWh\")) #\n",
    "\n",
    "# Plot list of yearly mean production and demand for each supply/demand\n",
    "meandemand = dropdims(mean(demandvalues,dims=1),dims=1)\n",
    "meanproduction = dropdims(mean(supplyvalues,dims=1),dims=1)\n",
    "supplydf = sort(DataFrame(Supplyname = supplynames, Yearly_supply_TWh = meanproduction*8.76),[:Yearly_supply_TWh], rev = true)\n",
    "demanddf = sort(DataFrame(Demandname = demandnames, Yearly_demand_TWh = meandemand*8.76),[:Yearly_demand_TWh], rev = true)\n",
    "supplydf[!,:ID] = collect(1:length(supplynames))\n",
    "demanddf[!,:ID] = collect(1:length(demandnames))\n",
    "joineddf = select!(outerjoin(supplydf,demanddf;on=:ID),Not(:ID))\n",
    "show(joineddf,allcols=true, allrows=true, nosubheader = true)\n",
    "\n",
    "# Check that total supply equals total demand\n",
    "show(combine(joineddf, [:Yearly_supply_TWh, :Yearly_demand_TWh] .=> sum∘skipmissing), nosubheader = true)\n",
    "\n",
    "# # Plot list of yearly income and cost for each supply/demand (only works if exogenprices are collected)\n",
    "# supplyrev = copy(supplyvalues)\n",
    "# for (i,supplybalancename) in enumerate(supplybalancenames)\n",
    "#     idx = findfirst(isequal(supplybalancename), powerbalancenames)\n",
    "#     supplyrev[:,i] .= supplyrev[:,i] .* prices[:,idx]\n",
    "# end\n",
    "# demandrev = copy(demandvalues)\n",
    "# for (i,demandbalancename) in enumerate(demandbalancenames)\n",
    "#     idx = findfirst(isequal(demandbalancename), powerbalancenames)\n",
    "#     demandrev[:,i] .= demandrev[:,i] .* prices[:,idx]\n",
    "# end\n",
    "# meandemandrev = dropdims(mean(demandrev,dims=1),dims=1)\n",
    "# meanproductionrev = dropdims(mean(supplyrev,dims=1),dims=1)\n",
    "# supplyrevdf = sort(DataFrame(Supplyname = supplynames, Yearly_rev_mill€ = meanproductionrev*8.76),[:Yearly_rev_mill€], rev = true)\n",
    "# demandrevdf = sort(DataFrame(Demandname = demandnames, Yearly_cost_mill€ = meandemandrev*8.76),[:Yearly_cost_mill€], rev = true)\n",
    "# supplyrevdf[!,:ID] = collect(1:length(supplynames))\n",
    "# demandrevdf[!,:ID] = collect(1:length(demandnames))\n",
    "# joinedrevdf = select!(outerjoin(supplyrevdf,demandrevdf;on=:ID),Not(:ID))\n",
    "# # show(joinedrevdf,allcols=true, allrows=true, nosubheader = true)\n",
    "\n",
    "# # Sum revenues and cost\n",
    "# show(combine(joinedrevdf, [:Yearly_rev_mill€, :Yearly_cost_mill€] .=> sum∘skipmissing), nosubheader = true)"
   ]
  },
  {
   "cell_type": "markdown",
   "id": "4196de5b",
   "metadata": {},
   "source": [
    "### Test inflow mellom detailed og agg"
   ]
  },
  {
   "cell_type": "code",
   "execution_count": null,
   "id": "e61507f6",
   "metadata": {},
   "outputs": [],
   "source": [
    "detailedelements = vcat(exogen,detdseries,detdstructure,thermal,windsol,transm,cons,inflow,fuel,nuclear)\n",
    "elements = vcat(exogen,aggdetd,thermal,windsol,transm,cons,agginflow,fuel,nuclear)\n",
    "\n",
    "extraelements = DataElement[]\n",
    "\n",
    "scenarioyearstart = 1991\n",
    "scenarioyearstop = 2020\n",
    "push!(extraelements, getelement(TIMEPERIOD_CONCEPT, \"ScenarioTimePeriod\", \"ScenarioTimePeriod\", \n",
    "        (\"Start\", getisoyearstart(scenarioyearstart)), (\"Stop\", getisoyearstart(scenarioyearstop))))\n",
    "\n",
    "# cnph = 26\n",
    "# cnpp = 26\n",
    "# cpdh = Hour(168*2)\n",
    "# cpdp = Hour(168*2)\n",
    "cnph = 24\n",
    "cnpp = 24\n",
    "cpdh = Hour(2)\n",
    "cpdp = Hour(2)\n",
    "hydro_horizon = SequentialHorizon(cnph, cpdh)\n",
    "power_horizon = SequentialHorizon(cnpp, cpdp)\n",
    "set_horizon!(extraelements, \"Power\", power_horizon)\n",
    "set_horizon!(extraelements, \"Battery\", power_horizon)\n",
    "set_horizon!(extraelements, \"Hydro\", hydro_horizon);\n",
    "\n",
    "detailedmodelobjects = values(getmodelobjects(vcat(detailedelements, extraelements)))\n",
    "modelobjects = values(getmodelobjects(vcat(elements, extraelements)));"
   ]
  },
  {
   "cell_type": "code",
   "execution_count": null,
   "id": "0a30b25f",
   "metadata": {},
   "outputs": [],
   "source": [
    "datayearstart = 2024\n",
    "scenarioyear = 1993\n",
    "weekstart = 15\n",
    "progdatatime = getisoyearstart(datayearstart) + Week(weekstart-1)\n",
    "datatime = getisoyearstart(datayearstart) + Week(weekstart-1)\n",
    "tnormal = PrognosisTime(progdatatime, datatime, getisoyearstart(scenarioyear) + Week(weekstart-1))\n",
    "days = 365\n",
    "parts = days;\n",
    "hor = SequentialHorizon(days, Day(1))"
   ]
  },
  {
   "cell_type": "code",
   "execution_count": null,
   "id": "84c872ae",
   "metadata": {},
   "outputs": [],
   "source": [
    "function checkagginflow(objects, tnormal, hor; prognosis=true)\n",
    "    sumenergyinflow = 0\n",
    "    partsumenergyinflow = zeros(getnumperiods(hor))\n",
    "    for obj in objects\n",
    "        if obj isa Balance\n",
    "            if getinstancename(getid(getcommodity(obj))) == \"Hydro\"\n",
    "                enekvglobal = 1.0 # if no energy equivalent, assume inflow is already demoninated in GWh\n",
    "                if haskey(obj.metadata, GLOBALENEQKEY)\n",
    "                    enekvglobal = obj.metadata[GLOBALENEQKEY]\n",
    "                end\n",
    "                for rhsterm in getrhsterms(obj)\n",
    "                    if rhsterm.param.param isa PrognosisSeriesParam\n",
    "                        param = rhsterm.param\n",
    "                        if prognosis == false\n",
    "                            param = M3SToMM3Param(MeanSeriesParam(rhsterm.param.param.level, rhsterm.param.param.profile))\n",
    "                        elseif prognosis == \"only prognosis\"\n",
    "                            param = M3SToMM3Param(TwoProductParam(MeanSeriesParam(rhsterm.param.param.level, ConstantTimeVector(1.0)), MeanSeriesParam(rhsterm.param.param.prognosis, ConstantTimeVector(1.0))))\n",
    "                        end\n",
    "                        sumenergyinflow += getparamvalue(param, tnormal, MsTimeDelta(getduration(hor)))*enekvglobal\n",
    "                        for j in 1:getnumperiods(hor)\n",
    "                            starttime = getstarttime(hor, j, tnormal)\n",
    "                            timedelta = gettimedelta(hor, j)\n",
    "                            partsumenergyinflow[j] += getparamvalue(param, starttime, timedelta)*enekvglobal\n",
    "                        end\n",
    "                    end\n",
    "                end\n",
    "            end\n",
    "        end\n",
    "    end\n",
    "    return sumenergyinflow, partsumenergyinflow\n",
    "end"
   ]
  },
  {
   "cell_type": "code",
   "execution_count": null,
   "id": "27bf3f2d",
   "metadata": {},
   "outputs": [],
   "source": [
    "tot1, ser1 = checkagginflow(modelobjects, tnormal, hor, prognosis=false)"
   ]
  },
  {
   "cell_type": "code",
   "execution_count": null,
   "id": "e3b587fc",
   "metadata": {},
   "outputs": [],
   "source": [
    "tot2, ser2 = checkagginflow(detailedmodelobjects, tnormal, hor, prognosis=false)"
   ]
  },
  {
   "cell_type": "code",
   "execution_count": null,
   "id": "0912c2b2",
   "metadata": {},
   "outputs": [],
   "source": [
    "tot3, ser3 = checkagginflow(modelobjects, tnormal, hor, prognosis=\"only prognosis\")"
   ]
  },
  {
   "cell_type": "code",
   "execution_count": null,
   "id": "e084ff09",
   "metadata": {},
   "outputs": [],
   "source": [
    "tot4, ser4 = checkagginflow(detailedmodelobjects, tnormal, hor, prognosis=\"only prognosis\")"
   ]
  },
  {
   "cell_type": "code",
   "execution_count": null,
   "id": "c037f992",
   "metadata": {},
   "outputs": [],
   "source": [
    "tot5, ser5 = checkagginflow(modelobjects, tnormal, hor, prognosis=true)"
   ]
  },
  {
   "cell_type": "code",
   "execution_count": null,
   "id": "469e5624",
   "metadata": {},
   "outputs": [],
   "source": [
    "tot6, ser6 = checkagginflow(detailedmodelobjects, tnormal, hor, prognosis=true)"
   ]
  },
  {
   "cell_type": "code",
   "execution_count": null,
   "id": "dbd6d41d",
   "metadata": {},
   "outputs": [],
   "source": [
    "display(plot(hcat(ser1, ser2, ser3, ser4, ser5, ser6), lc=[:red :red :blue :blue :green :green]))\n",
    "println([sum(ser1), sum(ser2)])\n",
    "println([sum(ser3), sum(ser4)])\n",
    "println([sum(ser5), sum(ser6)])"
   ]
  },
  {
   "cell_type": "code",
   "execution_count": null,
   "id": "1c124752",
   "metadata": {},
   "outputs": [],
   "source": []
  },
  {
   "cell_type": "code",
   "execution_count": null,
   "id": "27287474",
   "metadata": {},
   "outputs": [],
   "source": [
    "h = Highs_create()\n",
    "Highs_readModel(h, \"failed_model_1.mps\")\n",
    "Highs_setStringOptionValue(h, \"solver\", \"ipm\")\n",
    "Highs_setIntOptionValue(h, \"simplex_scale_strategy\", 5)\n",
    "ret = Highs_run(h)"
   ]
  },
  {
   "cell_type": "code",
   "execution_count": null,
   "id": "091ee9f5",
   "metadata": {},
   "outputs": [],
   "source": []
  }
 ],
 "metadata": {
  "@webio": {
   "lastCommId": null,
   "lastKernelId": null
  },
  "kernelspec": {
   "display_name": "Julia 1.9.2",
   "language": "julia",
   "name": "julia-1.9"
  },
  "language_info": {
   "file_extension": ".jl",
   "mimetype": "application/julia",
   "name": "julia",
   "version": "1.9.2"
  }
 },
 "nbformat": 4,
 "nbformat_minor": 5
}
