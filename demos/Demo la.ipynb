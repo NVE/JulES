{
 "cells": [
  {
   "cell_type": "markdown",
   "id": "009d8280",
   "metadata": {},
   "source": [
    "# JulES as a long-term analysis model"
   ]
  },
  {
   "cell_type": "markdown",
   "id": "01e0bc3e",
   "metadata": {},
   "source": [
    "### Import packages"
   ]
  },
  {
   "cell_type": "code",
   "execution_count": null,
   "id": "6d67dd8b",
   "metadata": {},
   "outputs": [],
   "source": [
    "using Pkg; Pkg.status()\n",
    "# Pkg.add(\"Revise\"); Pkg.add(\"Plots\"); Pkg.add(\"PlotlyJS\"); Pkg.add(\"PrettyTables\")\n",
    "# Pkg.update(\"TuLiPa\") # uncomment to update TuLiPa to latest version\n",
    "# Pkg.develop(path=joinpath(dirname(dirname(pwd())),\"TuLiPa\")); Pkg.status() # go to development version\n",
    "# Pkg.undo(); Pkg.status() # go back to main package version\n",
    "# Pkg.add(url=\"https://github.com/NVE/TuLiPa.git\"); Pkg.status() # alternative go back to latest version"
   ]
  },
  {
   "cell_type": "code",
   "execution_count": null,
   "id": "ecbf4aa8",
   "metadata": {
    "scrolled": false
   },
   "outputs": [],
   "source": [
    "using DataFrames, Statistics, JSON, Distributed, Clustering, YAML, CSV, Plots, PrettyTables, Revise\n",
    "# plotlyjs(); # uncomment for interactive plots"
   ]
  },
  {
   "cell_type": "code",
   "execution_count": null,
   "id": "a8a9f2cf",
   "metadata": {},
   "outputs": [],
   "source": [
    "# config = YAML.load_file(joinpath(\"data\", \"config_jules_la.yml\")) # config without datasets\n",
    "config = YAML.load_file(joinpath(dirname(dirname(pwd())), \"JulESIO\", \"config_jules_la_demo_stoch.yml\")) # config with NVE datasets\n",
    "weatheryear = config[\"main\"][\"weatheryears\"][1]\n",
    "datayear = config[\"main\"][\"datayears\"][1];"
   ]
  },
  {
   "cell_type": "markdown",
   "id": "239c3161",
   "metadata": {},
   "source": [
    "### Prepare parallell processing - import code on all cores"
   ]
  },
  {
   "cell_type": "code",
   "execution_count": null,
   "id": "3971d0bb",
   "metadata": {},
   "outputs": [],
   "source": [
    "const numcores = config[\"main\"][\"numcores\"]\n",
    "\n",
    "if nprocs() < numcores\n",
    "    addprocs(numcores - nprocs())\n",
    "end\n",
    "\n",
    "@show nprocs();"
   ]
  },
  {
   "cell_type": "code",
   "execution_count": null,
   "id": "696e5ec2",
   "metadata": {},
   "outputs": [],
   "source": [
    "@everywhere using TuLiPa, Dates\n",
    "# @everywhere include(joinpath(dirname(dirname(dirname(pwd()))),\"jgrc/TuLiPa/src/TuLiPa.jl\"));"
   ]
  },
  {
   "cell_type": "code",
   "execution_count": null,
   "id": "d2448075",
   "metadata": {},
   "outputs": [],
   "source": [
    "@everywhere using JulES"
   ]
  },
  {
   "cell_type": "markdown",
   "id": "ee6e0ccd",
   "metadata": {},
   "source": [
    "### Read dataset"
   ]
  },
  {
   "cell_type": "code",
   "execution_count": null,
   "id": "35482c34",
   "metadata": {},
   "outputs": [],
   "source": [
    "function getdataset(config, scenarioyear)\n",
    "    iprogtype = get(config[\"main\"], \"iprogtype\", \"direct\")\n",
    "    useifm = iprogtype != \"direct\"\n",
    "\n",
    "    settings = config[config[\"main\"][\"settings\"]]\n",
    "\n",
    "    sti_thema = joinpath(config[\"main\"][\"inputpath\"], \"datasett\", \"data_fra_thema\")\n",
    "    sti_vannkraft = joinpath(config[\"main\"][\"inputpath\"], \"datasett\", \"data_fra_dynmodell\")\n",
    "\n",
    "    tsd = JSON.parsefile(joinpath(sti_thema, \"dataset_thema.json\"))\n",
    "    themastructure = TuLiPa.getelements(tsd, sti_thema)\n",
    "    tst = JSON.parsefile(joinpath(sti_thema, \"dataset_thema_excl_hydro_nose.json\"))\n",
    "    themastructure_exl = TuLiPa.getelements(tst, sti_thema)\n",
    "    tse = JSON.parsefile(joinpath(sti_thema, \"tidsserier_thema.json\"))\n",
    "    themaseries = TuLiPa.getelements(tse, sti_thema)\n",
    "\n",
    "    dse = JSON.parsefile(joinpath(sti_vannkraft, \"tidsserier_detd.json\"))\n",
    "    detdseries = TuLiPa.getelements(dse)\n",
    "    dst = JSON.parsefile(joinpath(sti_vannkraft, \"dataset_detd.json\"))\n",
    "    detdstructure = TuLiPa.getelements(dst)\n",
    "\n",
    "    progelements = vcat(themaseries, themastructure)\n",
    "\n",
    "    ifm_replacemap = Dict{String, String}()\n",
    "    ifm_names = String[]\n",
    "    ifm_weights = Dict{String, Dict{String, Float64}}()\n",
    "    ifm_normfactors = Dict{String, Float64}()\n",
    "    ifm_elements = JulES.TuLiPa.DataElement[]\n",
    "    \n",
    "    if JulES.get_onlyagghydro(settings)\n",
    "        detailedrescopl = Dict()\n",
    "        return Dict(\"elements\" => progelements, \"detailedrescopl\" => detailedrescopl,\n",
    "            \"iprogtype\" => iprogtype, \"ifm_replacemap\" => ifm_replacemap, \"ifm_names\" => ifm_names, \"ifm_weights\" => ifm_weights, \"ifm_normfactors\" => ifm_normfactors, \"ifm_elements\" => ifm_elements)\n",
    "    else\n",
    "        elements = vcat(themaseries, themastructure_exl, detdseries, detdstructure)\n",
    "        detailedrescopl = JSON.parsefile(joinpath(sti_vannkraft, \"magasin_elspot.json\"))\n",
    "        return Dict(\"elements\" => elements, \"elements_ppp\" => progelements, \"detailedrescopl\" => detailedrescopl,\n",
    "            \"iprogtype\" => iprogtype, \"ifm_replacemap\" => ifm_replacemap, \"ifm_names\" => ifm_names, \"ifm_weights\" => ifm_weights, \"ifm_normfactors\" => ifm_normfactors, \"ifm_elements\" => ifm_elements)\n",
    "    end\n",
    "end"
   ]
  },
  {
   "cell_type": "markdown",
   "id": "28bc5d24",
   "metadata": {},
   "source": [
    "### Run JulES and keep the results"
   ]
  },
  {
   "cell_type": "code",
   "execution_count": null,
   "id": "ca8bc8dd",
   "metadata": {},
   "outputs": [],
   "source": [
    "dataset = getdataset(config, weatheryear)\n",
    "input = JulES.DefaultJulESInput(config, dataset, datayear, weatheryear)\n",
    "JulES.cleanup_jules(input)\n",
    "data = JulES.run_serial(input)"
   ]
  },
  {
   "cell_type": "markdown",
   "id": "0ca49611",
   "metadata": {},
   "source": [
    "### Show some of the results"
   ]
  },
  {
   "cell_type": "code",
   "execution_count": null,
   "id": "e2da6130",
   "metadata": {},
   "outputs": [],
   "source": [
    "powerbalancenames = data[\"areanames\"]\n",
    "prices = data[\"pricematrix\"]\n",
    "x1 = data[\"priceindex\"]\n",
    "\n",
    "hydronames = data[\"resnames\"]\n",
    "hydrolevels = data[\"resmatrix\"]\n",
    "x2 = data[\"resindex\"]\n",
    "\n",
    "batterynames = data[\"batnames\"]\n",
    "batterylevels = data[\"batmatrix\"]\n",
    "x2 = data[\"batindex\"]\n",
    "\n",
    "statenames = data[\"statenames\"]\n",
    "statematrix = data[\"statematrix\"]\n",
    "x3 = data[\"stateindex\"]\n",
    "\n",
    "supplyvalues = data[\"supplyvalues\"]\n",
    "supplynames = data[\"supplynames\"]\n",
    "supplybalancenames = data[\"supplybalancenames\"]\n",
    "\n",
    "demandvalues = data[\"demandvalues\"]\n",
    "demandnames = data[\"demandnames\"]\n",
    "demandbalancenames = data[\"demandbalancenames\"];\n",
    "\n",
    "# storagevalues = data[\"storagevalues\"]\n",
    "# storagenames = data[\"storagenames\"]\n",
    "# scenarionames = data[\"scenarionames\"]\n",
    "# shorts = data[\"shorts\"]\n",
    "# skipfactor = data[\"skipfactor\"];"
   ]
  },
  {
   "cell_type": "code",
   "execution_count": null,
   "id": "76cbdf9a",
   "metadata": {},
   "outputs": [],
   "source": [
    "# Plot prices\n",
    "idxwohub = findall(x -> !occursin(\"HUB\", x), powerbalancenames) # remove hubs, not active in 2025 dataset\n",
    "display(plot(x1, prices[:,idxwohub]*100, labels=reshape(powerbalancenames[idxwohub],1,length(powerbalancenames[idxwohub])), size=(800,500), title=\"Prices\", ylabel=\"€/MWh\"))\n",
    "\n",
    "# # Plot supplies and demands\n",
    "# maxdemsup = isempty(supplyvalues) ? maximum(demandvalues) : (isempty(demandvalues) ? maximum(supplyvalues) : max(maximum(demandvalues), maximum(supplyvalues)))\n",
    "# supplychart = plot(x1, supplyvalues,labels=reshape(supplynames,1,length(supplynames)),title=\"Supply\", ylabel = \"GWh/h\", ylims=(0,maxdemsup))\n",
    "# demandchart = plot(x1, demandvalues,labels=reshape(demandnames,1,length(demandnames)),title=\"Demand\", ylabel = \"GWh/h\", ylims=(0,maxdemsup))\n",
    "sumsupplyvalues = sum(supplyvalues,dims=2)\n",
    "sumdemandvalues = sum(demandvalues,dims=2)\n",
    "maxdemsup = isempty(sumsupplyvalues) ? maximum(sumdemandvalues) : (isempty(sumdemandvalues) ? maximum(sumsupplyvalues) : max(maximum(sumdemandvalues), maximum(sumsupplyvalues)))\n",
    "supplychart = areaplot(x1,sumsupplyvalues,title=\"Supply\", ylabel = \"GWh/h\")\n",
    "demandchart = areaplot(x1,sumdemandvalues,title=\"Demand\", ylabel = \"GWh/h\")\n",
    "display(plot([supplychart,demandchart]...,layout=(1,2),size=(800,500)))\n",
    "\n",
    "# Plot storages\n",
    "# display(areaplot(x2, hydrolevels,labels=reshape(hydronames,1,length(hydronames)),size=(800,500),title=\"Reservoir levels\", ylabel = \"TWh\")) #\n",
    "display(areaplot(x2, dropdims(sum(hydrolevels,dims=2),dims=2),labels=\"Total\",size=(800,500),title=\"Reservoir levels\", ylabel = \"TWh\")) #\n",
    "\n",
    "display(areaplot(x1, dropdims(sum(batterylevels,dims=2),dims=2),labels=\"Total\",size=(800,500),title=\"Short term storage levels\", ylabel = \"GWh\")) #\n",
    "\n",
    "# Plot list of yearly mean production and demand for each supply/demand TODO: split demand/supply and transmission\n",
    "meandemand = dropdims(mean(demandvalues,dims=1),dims=1)\n",
    "meanproduction = dropdims(mean(supplyvalues,dims=1),dims=1)\n",
    "supplydf = sort(DataFrame(Supplyname = supplynames, Yearly_supply_TWh = meanproduction*8.76),[:Yearly_supply_TWh], rev = true)\n",
    "demanddf = sort(DataFrame(Demandname = demandnames, Yearly_demand_TWh = meandemand*8.76),[:Yearly_demand_TWh], rev = true)\n",
    "supplydf[!,:ID] = collect(1:length(supplynames))\n",
    "demanddf[!,:ID] = collect(1:length(demandnames))\n",
    "joineddf = select!(outerjoin(supplydf,demanddf;on=:ID),Not(:ID))\n",
    "# show(joineddf,allcols=true, allrows=true, nosubheader = true)\n",
    "\n",
    "# Check that total supply equals total demand\n",
    "pretty_table(combine(joineddf, [:Yearly_supply_TWh, :Yearly_demand_TWh] .=> sum∘skipmissing), show_subheader = false)\n",
    "\n",
    "# # Plot list of yearly income and cost for each supply/demand (only works if exogenprices are collected)\n",
    "# supplyrev = copy(supplyvalues)\n",
    "# for (i,supplybalancename) in enumerate(supplybalancenames)\n",
    "#     idx = findfirst(isequal(supplybalancename), powerbalancenames)\n",
    "#     supplyrev[:,i] .= supplyrev[:,i] .* prices[:,idx]\n",
    "# end\n",
    "# demandrev = copy(demandvalues)\n",
    "# for (i,demandbalancename) in enumerate(demandbalancenames)\n",
    "#     idx = findfirst(isequal(demandbalancename), powerbalancenames)\n",
    "#     demandrev[:,i] .= demandrev[:,i] .* prices[:,idx]\n",
    "# end\n",
    "# meandemandrev = dropdims(mean(demandrev,dims=1),dims=1)\n",
    "# meanproductionrev = dropdims(mean(supplyrev,dims=1),dims=1)\n",
    "# supplyrevdf = sort(DataFrame(Supplyname = supplynames, Yearly_rev_mill€ = meanproductionrev*8.76),[:Yearly_rev_mill€], rev = true)\n",
    "# demandrevdf = sort(DataFrame(Demandname = demandnames, Yearly_cost_mill€ = meandemandrev*8.76),[:Yearly_cost_mill€], rev = true)\n",
    "# supplyrevdf[!,:ID] = collect(1:length(supplynames))\n",
    "# demandrevdf[!,:ID] = collect(1:length(demandnames))\n",
    "# joinedrevdf = select!(outerjoin(supplyrevdf,demandrevdf;on=:ID),Not(:ID))\n",
    "# # pretty_table(joinedrevdf,show_subheader = false)\n",
    "\n",
    "# # Sum revenues and cost\n",
    "# pretty_table(combine(joinedrevdf, [:Yearly_rev_mill€, :Yearly_cost_mill€] .=> sum∘skipmissing), show_subheader = false)\n",
    "\n",
    "# # Plot storagevalues for each reservoir and scenarios\n",
    "# maxlongtermstorages = 10\n",
    "# maxshorttermstorages = 10\n",
    "# shortindex = x3\n",
    "# medindex = x3[1:Int(skipfactor):end]\n",
    "# numop = length(findall(sn -> occursin(\"Operative\", sn), scenarionames))\n",
    "# numscen = length(scenarionames) - numop\n",
    "# j = 0\n",
    "# k = 0\n",
    "# for (i, storagename) in enumerate(storagenames)\n",
    "#     if shorts[i]\n",
    "#         j += 1\n",
    "#         j > maxshorttermstorages && continue\n",
    "#         storagevalues_ = storagevalues[:,:,:]\n",
    "#         index = shortindex\n",
    "#     else\n",
    "#         k += 1\n",
    "#         k > maxlongtermstorages && continue\n",
    "#         storagevalues_ = storagevalues[1:Int(skipfactor):end,:,:]\n",
    "#         index = medindex\n",
    "#     end\n",
    "#     p = plot(index, storagevalues_[:,1:numscen,i] * -100, size=(800,500), title=\"Storagevalues scenario and operative for \" * storagename, labels=reshape(scenarionames[1:numscen], 1, numscen), ylabel=\"€/MWh\")\n",
    "#     plot!(p, index, storagevalues_[:,numscen+1:end,i] * -100, labels=reshape(scenarionames[numscen+1:end], 1, numop), linewidth=5)\n",
    "#     display(p)\n",
    "# end"
   ]
  },
  {
   "cell_type": "code",
   "execution_count": null,
   "id": "ebe56754",
   "metadata": {},
   "outputs": [],
   "source": []
  }
 ],
 "metadata": {
  "@webio": {
   "lastCommId": null,
   "lastKernelId": null
  },
  "kernelspec": {
   "display_name": "Julia 1.9.2",
   "language": "julia",
   "name": "julia-1.9"
  },
  "language_info": {
   "file_extension": ".jl",
   "mimetype": "application/julia",
   "name": "julia",
   "version": "1.9.2"
  }
 },
 "nbformat": 4,
 "nbformat_minor": 5
}
